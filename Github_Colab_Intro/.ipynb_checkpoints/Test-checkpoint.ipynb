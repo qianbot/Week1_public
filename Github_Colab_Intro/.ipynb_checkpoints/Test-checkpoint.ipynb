{
 "cells": [
  {
   "cell_type": "code",
   "execution_count": 0,
   "metadata": {
    "colab": {
     "autoexec": {
      "startup": false,
      "wait_interval": 0
     }
    },
    "colab_type": "code",
    "id": "V9NF3S0rZ6_K"
   },
   "outputs": [],
   "source": [
    "# Hey, the upstream repository was updated!\n",
    "\n",
    "print(\"Oh no!\")"
   ]
  }
 ],
 "metadata": {
  "colab": {
   "default_view": {},
   "name": "Copy of Test.ipynb",
   "provenance": [
    {
     "file_id": "https://github.com/BeaverWorksMedlytics/Week1_public/blob/master/Github_Colab_Intro/Test.ipynb",
     "timestamp": 1531229867222
    }
   ],
   "version": "0.3.2",
   "views": {}
  },
  "kernelspec": {
   "display_name": "Python 3",
   "language": "python",
   "name": "python3"
  },
  "language_info": {
   "codemirror_mode": {
    "name": "ipython",
    "version": 3
   },
   "file_extension": ".py",
   "mimetype": "text/x-python",
   "name": "python",
   "nbconvert_exporter": "python",
   "pygments_lexer": "ipython3",
   "version": "3.6.4"
  }
 },
 "nbformat": 4,
 "nbformat_minor": 1
}
